{
 "cells": [
  {
   "cell_type": "code",
   "execution_count": null,
   "metadata": {},
   "outputs": [],
   "source": [
    "import sys\n",
    "from random import random\n",
    "from operator import add\n",
    "\n",
    "from pyspark.sql import SparkSession\n",
    "\n",
    "\n",
    "if __name__ == \"__main__\":\n",
    "    \"\"\"\n",
    "        Usage: pi [partitions]\n",
    "    \"\"\"\n",
    "    spark = SparkSession\\\n",
    "        .builder\\\n",
    "        .appName(\"PythonPi\")\\\n",
    "        .getOrCreate()\n",
    "\n",
    "    partitions = int(sys.argv[1]) if len(sys.argv) > 1 else 2\n",
    "    n = 100000 * partitions\n",
    "\n",
    "    def f(_):\n",
    "        x = random() * 2 - 1\n",
    "        y = random() * 2 - 1\n",
    "        return 1 if x ** 2 + y ** 2 <= 1 else 0\n",
    "\n",
    "    count = spark.sparkContext.parallelize(range(1, n + 1), partitions).map(f).reduce(add)\n",
    "    print(\"Pi is roughly %f\" % (4.0 * count / n))\n",
    "\n",
    "    spark.stop()"
   ]
  },
  {
   "cell_type": "code",
   "execution_count": null,
   "metadata": {},
   "outputs": [],
   "source": [
    "from pyspark.sql import SparkSession\n",
    "import spark\n",
    "\n",
    "df = spark.read.format(\"csv\").option(\"header\", \"true\").load(\"csvfile.csv\")"
   ]
  },
  {
   "cell_type": "code",
   "execution_count": null,
   "metadata": {},
   "outputs": [],
   "source": [
    "from pyspark.sql import SparkSession\n",
    "from pyspark.sql import functions as F\n",
    "spark = SparkSession.builder.appName(\"labelGen\").getOrCreate()\n",
    "df = spark.read.load(\"output.csv\",format=\"csv\", sep=\",\", inferSchema=\"true\", header=\"true\")\n",
    "def current_loan_helper(val):\n",
    "    try:\n",
    "        if int(val) >= 3:\n",
    "            return 1\n",
    "        else:\n",
    "            return 0\n",
    "    except:\n",
    "        return 1\n",
    "    \n",
    "def zero_balance_helper(val):\n",
    "    target = [3,6,9]\n",
    "    if val in target:\n",
    "        return 1\n",
    "    else:\n",
    "        return 0\n",
    "def default_helper(val):\n",
    "    return val > 0\n",
    "    \n",
    "\n",
    "\n",
    "df = df.withColumn('CLH', current_loan_helper('Current Loan Delinquency Status'))\n",
    "df = df.withColumn('ZBH', zero_balance_helper('Zero Balance Code'))\n",
    "df = df.withColumn('Default', F.col('CLH') + F.col('ZBH'))\n",
    "df = df.withColumn('Default', default_helper('Default'))\n",
    "df.drop(\"CLH\",\"ZBH\",\"Current Loan Delinquency Status\", \"Zero Balance Code\")\n",
    "df.write.parquet(\"output.parquet\")"
   ]
  }
 ],
 "metadata": {
  "kernelspec": {
   "display_name": "Python 3",
   "language": "python",
   "name": "python3"
  },
  "language_info": {
   "codemirror_mode": {
    "name": "ipython",
    "version": 3
   },
   "file_extension": ".py",
   "mimetype": "text/x-python",
   "name": "python",
   "nbconvert_exporter": "python",
   "pygments_lexer": "ipython3",
   "version": "3.8.6"
  }
 },
 "nbformat": 4,
 "nbformat_minor": 4
}
