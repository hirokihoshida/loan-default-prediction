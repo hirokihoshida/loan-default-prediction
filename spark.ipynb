{
 "cells": [
  {
   "cell_type": "code",
   "execution_count": null,
   "metadata": {},
   "outputs": [],
   "source": [
    "# import sys\n",
    "# from random import random\n",
    "# from operator import add\n",
    "\n",
    "# from pyspark.sql import SparkSession\n",
    "\n",
    "\n",
    "# if __name__ == \"__main__\":\n",
    "#     \"\"\"\n",
    "#         Usage: pi [partitions]\n",
    "#     \"\"\"\n",
    "#     spark = SparkSession\\\n",
    "#         .builder\\\n",
    "#         .appName(\"PythonPi\")\\\n",
    "#         .getOrCreate()\n",
    "\n",
    "#     partitions = int(sys.argv[1]) if len(sys.argv) > 1 else 2\n",
    "#     n = 100000 * partitions\n",
    "\n",
    "#     def f(_):\n",
    "#         x = random() * 2 - 1\n",
    "#         y = random() * 2 - 1\n",
    "#         return 1 if x ** 2 + y ** 2 <= 1 else 0\n",
    "\n",
    "#     count = spark.sparkContext.parallelize(range(1, n + 1), partitions).map(f).reduce(add)\n",
    "#     print(\"Pi is roughly %f\" % (4.0 * count / n))\n",
    "\n",
    "#     spark.stop()"
   ]
  },
  {
   "cell_type": "code",
   "execution_count": null,
   "metadata": {},
   "outputs": [],
   "source": [
    "from pyspark.sql import SparkSession\n",
    "from pyspark.sql import functions as F\n",
    "from pyspark.sql.types import IntegerType\n",
    "\n",
    "print(\"Started Processing Labels!\")\n",
    "if __name__ == \"__main__\":\n",
    "    spark = SparkSession.builder.appName(\"labelGen\").getOrCreate()\n",
    "    df = spark.read.parquet(\"s3://ds102-coolteam-scratch/preprocessing.parquet\")\n",
    "    def currentLoanHelper(val):\n",
    "        if int(val) >= 3:\n",
    "            return 1\n",
    "        else:\n",
    "            return 0\n",
    "\n",
    "    def zeroBalanceHelper(val):\n",
    "        target = [3,6,9]\n",
    "        if val in target:\n",
    "            return 1\n",
    "        else:\n",
    "            return 0\n",
    "    def defaultHelper(val):\n",
    "        if val == 0:\n",
    "            return 0\n",
    "        else:\n",
    "            return 1\n",
    "\n",
    "    currentLoanHelperUDF = F.udf(currentLoanHelper, IntegerType())\n",
    "    zeroBalanceHelperUDF = F.udf(zeroBalanceHelper, IntegerType())\n",
    "    defaultHelperUDF = F.udf(defaultHelper, IntegerType())\n",
    "\n",
    "    df = df.withColumn('CLH', currentLoanHelperUDF('CurrentLoanDelinquencyStatus'))\n",
    "    df = df.withColumn('ZBH', zeroBalanceHelperUDF('ZeroBalanceCode'))\n",
    "    \n",
    "    df = df.withColumn('Default', F.expr(\"CLH + ZBH\"))\n",
    "    df = df.withColumn('Default', defaultHelperUDF('Default'))\n",
    "    df = df.drop(\"CLH\",\"ZBH\",\"Current LoanDelinquencyStatus\", \"ZeroBalanceCode\")\n",
    "    df.write.parquet(\"s3://ds102-coolteam-scratch/labels.parquet\")\n",
    "    print(\"Finished Processing Labels!\")\n",
    "    spark.stop()"
   ]
  }
 ],
 "metadata": {
  "kernelspec": {
   "display_name": "Python 3",
   "language": "python",
   "name": "python3"
  },
  "language_info": {
   "codemirror_mode": {
    "name": "ipython",
    "version": 3
   },
   "file_extension": ".py",
   "mimetype": "text/x-python",
   "name": "python",
   "nbconvert_exporter": "python",
   "pygments_lexer": "ipython3",
   "version": "3.8.6"
  }
 },
 "nbformat": 4,
 "nbformat_minor": 4
}
