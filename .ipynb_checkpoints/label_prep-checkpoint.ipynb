{
 "cells": [
  {
   "cell_type": "code",
   "execution_count": null,
   "metadata": {},
   "outputs": [],
   "source": [
    "from pyspark.sql import SparkSession\n",
    "from pyspark.sql import functions as F\n",
    "from pyspark.sql.types import IntegerType\n",
    "\n",
    "print(\"Started Processing Labels!\")\n",
    "if __name__ == \"__main__\":\n",
    "    spark = SparkSession.builder.appName(\"labelGen\").getOrCreate()\n",
    "    df = spark.read.parquet(\"s3://ds102-coolteam-scratch/features.parquet\")\n",
    "    def currentLoanHelper(val):\n",
    "        if int(val) >= 3:\n",
    "            return 1\n",
    "        else:\n",
    "            return 0\n",
    "\n",
    "    def zeroBalanceHelper(val):\n",
    "        target = [3,6,9]\n",
    "        if val in target:\n",
    "            return 1\n",
    "        else:\n",
    "            return 0\n",
    "    def defaultHelper(val):\n",
    "        if val == 0:\n",
    "            return 0\n",
    "        else:\n",
    "            return 1\n",
    "\n",
    "    currentLoanHelperUDF = F.udf(currentLoanHelper, IntegerType())\n",
    "    zeroBalanceHelperUDF = F.udf(zeroBalanceHelper, IntegerType())\n",
    "    defaultHelperUDF = F.udf(defaultHelper, IntegerType())\n",
    "\n",
    "    df = df.withColumn('CLH', currentLoanHelperUDF('CurrentLoanDelinquencyStatus'))\n",
    "    df = df.withColumn('ZBH', zeroBalanceHelperUDF('ZeroBalanceCode'))\n",
    "    df = df.withColumn('Default', F.expr(\"CLH + ZBH\"))\n",
    "    df = df.withColumn('Default', defaultHelperUDF('Default'))\n",
    "    \n",
    "    df = df.drop(\"CLH\",\"ZBH\",\"Current LoanDelinquencyStatus\", \"ZeroBalanceCode\")\n",
    "    df.write.parquet(\"s3://ds102-coolteam-scratch/labels.parquet\")\n",
    "    print(\"Finished Processing Labels!\")\n",
    "    spark.stop()"
   ]
  }
 ],
 "metadata": {
  "kernelspec": {
   "display_name": "Python 3",
   "language": "python",
   "name": "python3"
  },
  "language_info": {
   "codemirror_mode": {
    "name": "ipython",
    "version": 3
   },
   "file_extension": ".py",
   "mimetype": "text/x-python",
   "name": "python",
   "nbconvert_exporter": "python",
   "pygments_lexer": "ipython3",
   "version": "3.8.6"
  }
 },
 "nbformat": 4,
 "nbformat_minor": 4
}
